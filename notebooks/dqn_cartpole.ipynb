{
  "cells": [
    {
      "cell_type": "code",
      "execution_count": 4,
      "metadata": {
        "id": "6X_5ynrG3KL8"
      },
      "outputs": [],
      "source": [
        "import torch\n",
        "import gym\n",
        "import math\n",
        "import random\n",
        "import matplotlib.pyplot as plt\n",
        "import numpy as np\n",
        "from IPython import display\n",
        "from collections import namedtuple, deque\n",
        "from itertools import count"
      ]
    },
    {
      "cell_type": "code",
      "execution_count": 15,
      "metadata": {
        "id": "iOn6Ehfo7mkC"
      },
      "outputs": [],
      "source": [
        "class DQN(torch.nn.Module):\n",
        "    def __init__(self, n_observations, n_actions, dropout_rate=0.5):\n",
        "        super(DQN, self).__init__()\n",
        "        self.layer1 = torch.nn.Linear(n_observations, 128)\n",
        "        self.layer2 = torch.nn.Linear(128, 128)\n",
        "        self.layer3 = torch.nn.Linear(128, n_actions)\n",
        "\n",
        "    def forward(self, x):\n",
        "        x = torch.nn.functional.relu(self.layer1(x))\n",
        "        x = torch.nn.functional.relu(self.layer2(x))\n",
        "        return self.layer3(x)"
      ]
    },
    {
      "cell_type": "code",
      "execution_count": 16,
      "metadata": {
        "id": "h1wh8NTV8Qah"
      },
      "outputs": [],
      "source": [
        "class ReplayMemory(object):\n",
        "    def __init__(self, capacity):\n",
        "        self.memory = deque([], maxlen=capacity)\n",
        "        self.transition = namedtuple('Transition', ('state', 'action', 'next_state', 'reward'))\n",
        "\n",
        "    def push(self, *args):\n",
        "        self.memory.append(self.transition(*args))\n",
        "\n",
        "    def sample(self, batch_size):\n",
        "        return random.sample(self.memory, batch_size)\n",
        "\n",
        "    def __len__(self):\n",
        "        return len(self.memory)"
      ]
    },
    {
      "cell_type": "code",
      "execution_count": 19,
      "metadata": {
        "id": "NvsLZxSc6zdk"
      },
      "outputs": [],
      "source": [
        "class DQNAgent:\n",
        "    def __init__(self):\n",
        "        self.device = torch.device(\"cuda\" if torch.cuda.is_available() else \"cpu\")\n",
        "\n",
        "        self.env = gym.make(\"CartPole-v1\")\n",
        "        self.state_size = self.env.observation_space.shape[0]\n",
        "        self.action_size = self.env.action_space.n\n",
        "\n",
        "        self.episodes = 600\n",
        "        self.episode_durations = []\n",
        "        self.steps_done = 0\n",
        "\n",
        "        self.batch_size = 128  # number of transitions sampled from the replay buffer\n",
        "        self.gamma = 0.99  # discount factor\n",
        "        self.epsilon_start = 0.9  # starting value of epsilon\n",
        "        self.epsilon_end = 0.05  # final value of epsilon\n",
        "        self.epsilon_decay = 1000  # rate of exponential decay of epsilon (higher -> slower decay\n",
        "        self.tau = 0.005  # update rate of the target network\n",
        "        self.lr = 1e-4  # learning rate of the ``AdamW`` optimizer\n",
        "\n",
        "        self.policy_net = DQN(self.state_size, self.action_size).to(self.device)\n",
        "        self.target_net = DQN(self.state_size, self.action_size).to(self.device)\n",
        "        self.target_net.load_state_dict(self.policy_net.state_dict())\n",
        "\n",
        "        self.optimizer = torch.optim.AdamW(self.policy_net.parameters(), lr=self.lr, amsgrad=True)\n",
        "        self.memory = ReplayMemory(10000)\n",
        "\n",
        "    def plot_durations(self, show_result=False):\n",
        "        plt.figure(1)\n",
        "        durations_t = torch.tensor(self.episode_durations, dtype=torch.float)\n",
        "        if show_result:\n",
        "            plt.title('Result')\n",
        "        else:\n",
        "            plt.clf()\n",
        "            plt.title('Training...')\n",
        "        plt.xlabel('Episode')\n",
        "        plt.ylabel('Duration')\n",
        "        plt.plot(durations_t.numpy())\n",
        "\n",
        "        # Take 100 episode averages and plot them too\n",
        "        if len(durations_t) >= 100:\n",
        "            means = durations_t.unfold(0, 100, 1).mean(1).view(-1)\n",
        "            means = torch.cat((torch.zeros(99), means))\n",
        "            plt.plot(means.numpy())\n",
        "\n",
        "        plt.pause(0.001)  # pause a bit so that plots are updated\n",
        "        if not show_result:\n",
        "            display.display(plt.gcf())\n",
        "            display.clear_output(wait=True)\n",
        "        else:\n",
        "            display.display(plt.gcf())\n",
        "\n",
        "    def act(self, state):\n",
        "        sample = random.random()\n",
        "        eps_threshold = self.epsilon_end  + (self.epsilon_start - self.epsilon_end) * \\\n",
        "            math.exp(-1. * self.steps_done / self.epsilon_decay)\n",
        "        self.steps_done += 1\n",
        "        if sample > eps_threshold:\n",
        "            with torch.no_grad():\n",
        "                # t.max(1) will return the largest column value of each row.\n",
        "                # second column on max result is index of where max element was\n",
        "                # found, so we pick action with the larger expected reward.\n",
        "                return self.policy_net(state).max(1).indices.view(1, 1)\n",
        "        else:\n",
        "            return torch.tensor([[self.env.action_space.sample()]], device=self.device, dtype=torch.long)\n",
        "\n",
        "    def optimize_model(self):\n",
        "        if len(self.memory) < self.batch_size:\n",
        "            return\n",
        "        transitions = self.memory.sample(self.batch_size)\n",
        "\n",
        "        # Transpose the batch (see https://stackoverflow.com/a/19343/3343043 for\n",
        "        # detailed explanation). This converts batch-array of Transitions\n",
        "        # to Transition of batch-arrays.\n",
        "        batch = self.memory.transition(*zip(*transitions))\n",
        "\n",
        "        # Compute a mask of non-final states and concatenate the batch elements\n",
        "        # (a final state would've been the one after which simulation ended)\n",
        "        non_final_mask = torch.tensor(tuple(map(lambda s: s is not None,\n",
        "                                            batch.next_state)), device=self.device, dtype=torch.bool)\n",
        "        non_final_next_states = torch.cat([s for s in batch.next_state\n",
        "                                                    if s is not None])\n",
        "        state_batch = torch.cat(batch.state)\n",
        "        action_batch = torch.cat(batch.action)\n",
        "        reward_batch = torch.cat(batch.reward)\n",
        "\n",
        "        # Compute Q(s_t, a) - the model computes Q(s_t), then we select the\n",
        "        # columns of actions taken. These are the actions which would've been taken\n",
        "        # for each batch state according to policy_net\n",
        "        state_action_values = self.policy_net(state_batch).gather(1, action_batch)\n",
        "\n",
        "        # Compute V(s_{t+1}) for all next states.\n",
        "        # Expected values of actions for non_final_next_states are computed based\n",
        "        # on the \"older\" target_net; selecting their best reward with max(1).values\n",
        "        # This is merged based on the mask, such that we'll have either the expected\n",
        "        # state value or 0 in case the state was final.\n",
        "        next_state_values = torch.zeros(self.batch_size, device=self.device)\n",
        "        with torch.no_grad():\n",
        "            next_state_values[non_final_mask] = self.target_net(non_final_next_states).max(1).values\n",
        "\n",
        "        # Compute the expected Q values\n",
        "        expected_state_action_values = (next_state_values * self.gamma) + reward_batch\n",
        "\n",
        "        # Compute Huber loss\n",
        "        criterion = torch.nn.SmoothL1Loss()\n",
        "        loss = criterion(state_action_values, expected_state_action_values.unsqueeze(1))\n",
        "\n",
        "        # Optimize the model\n",
        "        self.optimizer.zero_grad()\n",
        "        loss.backward()\n",
        "\n",
        "        # In-place gradient clipping\n",
        "        torch.nn.utils.clip_grad_value_(self.policy_net.parameters(), 100)\n",
        "        self.optimizer.step()\n",
        "\n",
        "    def load(self, name):\n",
        "        self.policy_net.load_state_dict(torch.load(name))\n",
        "        self.target_net.load_state_dict(self.policy_net.state_dict())\n",
        "\n",
        "    def save(self, name):\n",
        "        torch.save(self.policy_net.state_dict(), name)\n",
        "\n",
        "    def train(self):\n",
        "        for _ in range(self.episodes):\n",
        "            # Initialize the environment and get its state\n",
        "            state = self.env.reset()\n",
        "            state = torch.tensor(state, dtype=torch.float32, device=self.device).unsqueeze(0)\n",
        "            for t in count():\n",
        "                action = self.act(state)\n",
        "                observation, reward, done, _ = self.env.step(action.item())\n",
        "                reward = torch.tensor([reward], device=self.device)\n",
        "\n",
        "                if done:\n",
        "                    next_state = None\n",
        "                else:\n",
        "                    next_state = torch.tensor(observation, dtype=torch.float32, device=self.device).unsqueeze(0)\n",
        "\n",
        "                # Store the transition in memory\n",
        "                self.memory.push(state, action, next_state, reward)\n",
        "\n",
        "                # Move to the next state\n",
        "                state = next_state\n",
        "\n",
        "                # Perform one step of the optimization (on the policy network)\n",
        "                self.optimize_model()\n",
        "\n",
        "                # Soft update of the target network's weights\n",
        "                # θ′ ← τ θ + (1 −τ )θ′\n",
        "                target_net_state_dict = self.target_net.state_dict()\n",
        "                policy_net_state_dict = self.policy_net.state_dict()\n",
        "                for key in policy_net_state_dict:\n",
        "                    target_net_state_dict[key] = policy_net_state_dict[key]*self.tau + target_net_state_dict[key]*(1-self.tau)\n",
        "                self.target_net.load_state_dict(target_net_state_dict)\n",
        "\n",
        "                if done:\n",
        "                    self.episode_durations.append(t + 1)\n",
        "                    self.plot_durations()\n",
        "                    break\n",
        "\n",
        "    def test(self, episodes=10):\n",
        "        self.policy_net.eval()\n",
        "        for e in range(episodes):\n",
        "            state = self.env.reset()\n",
        "            state = torch.tensor(state, dtype=torch.float32, device=self.device).unsqueeze(0)\n",
        "            done = False\n",
        "            total_reward = 0\n",
        "\n",
        "            while not done:\n",
        "                with torch.no_grad():\n",
        "                    action = self.policy_net(state).max(1).indices.view(1, 1)\n",
        "\n",
        "                observation, reward, done, _ = self.env.step(action.item())\n",
        "                total_reward += reward\n",
        "\n",
        "                if done:\n",
        "                    print(f\"Episode: {e+1}/{episodes}, Score: {total_reward}\")\n",
        "                    break\n",
        "\n",
        "                state = torch.tensor(observation, dtype=torch.float32,\n",
        "                                device=self.device).unsqueeze(0)\n",
        "\n"
      ]
    },
    {
      "cell_type": "code",
      "execution_count": 20,
      "metadata": {
        "colab": {
          "base_uri": "https://localhost:8080/",
          "height": 489
        },
        "id": "WXuG0MQr3KL-",
        "outputId": "f56b686a-416f-4eb2-c026-8291021b24f4"
      },
      "outputs": [
        {
          "name": "stderr",
          "output_type": "stream",
          "text": [
            "<ipython-input-19-958664ef73b0>:117: FutureWarning: You are using `torch.load` with `weights_only=False` (the current default value), which uses the default pickle module implicitly. It is possible to construct malicious pickle data which will execute arbitrary code during unpickling (See https://github.com/pytorch/pytorch/blob/main/SECURITY.md#untrusted-models for more details). In a future release, the default value for `weights_only` will be flipped to `True`. This limits the functions that could be executed during unpickling. Arbitrary objects will no longer be allowed to be loaded via this mode unless they are explicitly allowlisted by the user via `torch.serialization.add_safe_globals`. We recommend you start setting `weights_only=True` for any use case where you don't have full control of the loaded file. Please open an issue on GitHub for any issues related to this experimental feature.\n",
            "  self.policy_net.load_state_dict(torch.load(name))\n"
          ]
        },
        {
          "name": "stdout",
          "output_type": "stream",
          "text": [
            "Episode: 1/10, Score: 149.0\n",
            "Episode: 2/10, Score: 151.0\n",
            "Episode: 3/10, Score: 166.0\n",
            "Episode: 4/10, Score: 179.0\n",
            "Episode: 5/10, Score: 142.0\n",
            "Episode: 6/10, Score: 147.0\n",
            "Episode: 7/10, Score: 143.0\n",
            "Episode: 8/10, Score: 163.0\n",
            "Episode: 9/10, Score: 143.0\n",
            "Episode: 10/10, Score: 168.0\n"
          ]
        }
      ],
      "source": [
        "agent = DQNAgent()\n",
        "agent.train()\n",
        "agent.save(\"dqn_cartpole.pth\")\n",
        "agent.load(\"dqn_cartpole.pth\")\n",
        "agent.test()"
      ]
    },
    {
      "cell_type": "code",
      "execution_count": 21,
      "metadata": {
        "colab": {
          "base_uri": "https://localhost:8080/",
          "height": 524
        },
        "id": "n7JAM95mI6p1",
        "outputId": "3c95167c-c793-4046-ce28-53fa238c7a74"
      },
      "outputs": [
        {
          "name": "stdout",
          "output_type": "stream",
          "text": [
            "Complete\n"
          ]
        },
        {
          "data": {
            "image/png": "[encoded data removed]",
            "text/plain": [
              "<Figure size 640x480 with 1 Axes>"
            ]
          },
          "metadata": {},
          "output_type": "display_data"
        },
        {
          "data": {
            "text/plain": [
              "<Figure size 640x480 with 0 Axes>"
            ]
          },
          "metadata": {},
          "output_type": "display_data"
        },
        {
          "data": {
            "text/plain": [
              "<Figure size 640x480 with 0 Axes>"
            ]
          },
          "metadata": {},
          "output_type": "display_data"
        }
      ],
      "source": [
        "print('Complete')\n",
        "agent.plot_durations(show_result=True)\n",
        "plt.ioff()\n",
        "plt.show()"
      ]
    },
    {
      "cell_type": "code",
      "execution_count": null,
      "metadata": {
        "id": "h8fCt9pzI-GK"
      },
      "outputs": [],
      "source": []
    }
  ],
  "metadata": {
    "accelerator": "GPU",
    "colab": {
      "gpuType": "T4",
      "provenance": []
    },
    "kernelspec": {
      "display_name": "Python 3",
      "name": "python3"
    },
    "language_info": {
      "codemirror_mode": {
        "name": "ipython",
        "version": 3
      },
      "file_extension": ".py",
      "mimetype": "text/x-python",
      "name": "python",
      "nbconvert_exporter": "python",
      "pygments_lexer": "ipython3",
      "version": "3.12.3"
    }
  },
  "nbformat": 4,
  "nbformat_minor": 0
}
