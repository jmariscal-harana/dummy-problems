{
 "cells": [
  {
   "cell_type": "markdown",
   "metadata": {},
   "source": [
    "# Synthetic data generation\n",
    "Run this notebook to generate a synthetic dataset of lowercase and/or uppercase letters of different fonts and sizes for training and testing.\n",
    "\n",
    "Parameters can be easily modified to change the font, the size, the thickness, or the colour; and to increase/reduce the randomness of the dataset."
   ]
  },
  {
   "cell_type": "code",
   "execution_count": 2,
   "metadata": {},
   "outputs": [],
   "source": [
    "import random\n",
    "import string\n",
    "import cv2\n",
    "import matplotlib.pyplot as plt\n",
    "import matplotlib.image as mpimg\n",
    "import numpy as np\n",
    "from pathlib import Path"
   ]
  },
  {
   "cell_type": "code",
   "execution_count": 17,
   "metadata": {},
   "outputs": [],
   "source": [
    "class DatasetGenerator:\n",
    "    def __init__(self, output_dir: Path=Path('letters_dataset'), images_per_class: int=10, image_size: int=128, letter_case: str=\"upper\"):\n",
    "        self.output_dir = output_dir\n",
    "        self.images_per_class = images_per_class\n",
    "        self.image_size = image_size\n",
    "        self.letter_case = letter_case\n",
    "\n",
    "    def __get_letters(self) -> str:\n",
    "        \"\"\"Get string of letters to generate images for.\"\"\"\n",
    "        match self.letter_case:\n",
    "            case \"upper\":\n",
    "                return string.ascii_uppercase\n",
    "            case \"lower\":\n",
    "                return string.ascii_lowercase\n",
    "            case \"all\":\n",
    "                return string.ascii_letters\n",
    "            case _:\n",
    "                raise ValueError(\"Invalid letter case\")\n",
    "\n",
    "    def get_letter_image(self, letter: str) -> np.ndarray:\n",
    "        \"\"\"Generates a grayscale letter image.\n",
    "\n",
    "        Args:\n",
    "            letter (str): chosen letter\n",
    "\n",
    "        Returns:\n",
    "            np.ndarray: image of chosen letter\n",
    "        \"\"\"\n",
    "        image = np.zeros((self.image_size, self.image_size), dtype=np.uint8)    \n",
    "\n",
    "        # Text parameters\n",
    "        font = cv2.FONT_HERSHEY_SIMPLEX\n",
    "        font_size = random.randint(1, 4)\n",
    "        font_thickness = random.randint(1, 4)\n",
    "        font_colour = (255)\n",
    "        letter_width, letter_height = cv2.getTextSize(letter, font, font_size, font_thickness)[0]\n",
    "        x = random.randint(0, self.image_size - letter_width)\n",
    "        y = random.randint(0, self.image_size - letter_height)\n",
    "\n",
    "        # Text origin is at the bottom left corner\n",
    "        cv2.putText(image, letter, (x, self.image_size - y), font, font_size, font_colour, font_thickness)\n",
    "\n",
    "        return image\n",
    "\n",
    "    def generate_letter_dataset(self) -> None:\n",
    "        \"\"\"Generate dataset of images of letters.\"\"\"\n",
    "        self.output_dir.mkdir(exist_ok=True, parents=True)  # create dataset directory\n",
    "\n",
    "        # Generate n=images_per_class images for each letter\n",
    "        for letter in self.__get_letters():        \n",
    "            for i in range(self.images_per_class):\n",
    "                image = self.get_letter_image(letter)\n",
    "                filename = self.output_dir / f\"{letter}_{i:04}.png\"\n",
    "                cv2.imwrite(filename, image)\n",
    "\n",
    "            print(f\"Generated {self.images_per_class} images for letter {letter}\")"
   ]
  },
  {
   "cell_type": "code",
   "execution_count": null,
   "metadata": {},
   "outputs": [],
   "source": [
    "generator = DatasetGenerator()\n",
    "image = generator.get_letter_image(\"A\")\n",
    "plt.imshow(image, cmap='gray')"
   ]
  },
  {
   "cell_type": "code",
   "execution_count": null,
   "metadata": {},
   "outputs": [],
   "source": [
    "\n",
    "# Generate training and testing datasets\n",
    "generator = DatasetGenerator(output_dir=Path(\"/home/ubuntu/data/letters_dataset/train\"), images_per_class=10)\n",
    "generator.generate_letter_dataset()\n",
    "\n",
    "generator = DatasetGenerator(output_dir=Path(\"/home/ubuntu/data/letters_dataset/test\"), images_per_class=2)\n",
    "generator.generate_letter_dataset()"
   ]
  },
  {
   "cell_type": "code",
   "execution_count": null,
   "metadata": {},
   "outputs": [],
   "source": [
    "def display_images(output_dir: Path, n_samples: int) -> None:\n",
    "    img_dirs = list(output_dir.glob(\"*\"))\n",
    "    img_dirs = random.sample(img_dirs, n_samples)\n",
    "\n",
    "    images = []\n",
    "    for img in img_dirs:\n",
    "        images.append(mpimg.imread(img))\n",
    "\n",
    "    data_set = output_dir.stem.upper()\n",
    "    plt.figure(figsize=(10,2))\n",
    "    plt.suptitle(f'{data_set} SET', fontsize =20)\n",
    "    rows = 1\n",
    "    columns = n_samples\n",
    "    for i, image in enumerate(images):\n",
    "        plt.subplot(rows, columns, i + 1)\n",
    "        plt.imshow(image, cmap='gray')\n",
    "\n",
    "train_data = Path(\"/home/ubuntu/data/letters_dataset/train\")\n",
    "test_data = Path(\"/home/ubuntu/data/letters_dataset/test\")\n",
    "n_samples = 5\n",
    "\n",
    "display_images(train_data, n_samples)\n",
    "display_images(test_data, n_samples)"
   ]
  }
 ],
 "metadata": {
  "kernelspec": {
   "display_name": "Python 3",
   "language": "python",
   "name": "python3"
  },
  "language_info": {
   "codemirror_mode": {
    "name": "ipython",
    "version": 3
   },
   "file_extension": ".py",
   "mimetype": "text/x-python",
   "name": "python",
   "nbconvert_exporter": "python",
   "pygments_lexer": "ipython3",
   "version": "3.12.3"
  }
 },
 "nbformat": 4,
 "nbformat_minor": 2
}
