{
 "cells": [
  {
   "cell_type": "code",
   "execution_count": 2,
   "metadata": {},
   "outputs": [],
   "source": [
    "import numpy as np\n",
    "import random\n",
    "import string\n",
    "import cv2\n",
    "from pathlib import Path"
   ]
  },
  {
   "cell_type": "code",
   "execution_count": 3,
   "metadata": {},
   "outputs": [],
   "source": [
    "def get_letter_image(letter: str, image_size: int=128) -> np.ndarray:\n",
    "    \"\"\"Generates a grayscale letter image.\n",
    "\n",
    "    Returns:\n",
    "        np.ndarray: letter image.\n",
    "    \"\"\"\n",
    "\n",
    "    image = np.zeros((image_size, image_size), dtype=np.uint8)    \n",
    "    \n",
    "    # Text parameters\n",
    "    font = cv2.FONT_HERSHEY_SIMPLEX\n",
    "    font_size = random.randint(1, 4)\n",
    "    font_thickness = random.randint(1, 4)\n",
    "    font_colour = (255)\n",
    "    letter_width, letter_height = cv2.getTextSize(letter, font, font_size, font_thickness)[0]\n",
    "    x = random.randint(0, image_size - letter_width)\n",
    "    y = random.randint(0, image_size - letter_height)\n",
    "    \n",
    "    # Text origin is at the bottom left corner\n",
    "    cv2.putText(image, letter, (x, image_size - y), font, font_size, font_colour, font_thickness)\n",
    "    \n",
    "    return image"
   ]
  },
  {
   "cell_type": "code",
   "execution_count": null,
   "metadata": {},
   "outputs": [],
   "source": [
    "from matplotlib import pyplot as plt\n",
    "image = get_letter_image(\"A\")\n",
    "plt.imshow(image, cmap='gray')"
   ]
  },
  {
   "cell_type": "code",
   "execution_count": 5,
   "metadata": {},
   "outputs": [],
   "source": [
    "def get_letter_case(letter_case: str) -> str:\n",
    "    match letter_case:\n",
    "        case \"upper\":\n",
    "            return string.ascii_uppercase\n",
    "        case \"lower\":\n",
    "            return string.ascii_lowercase\n",
    "        case \"all\":\n",
    "            return string.ascii_letters\n",
    "        case _:\n",
    "            raise ValueError(\"Invalid letter case\")\n",
    "\n",
    "def generate_letter_dataset(output_dir: Path=Path('letters_dataset'), images_per_class: int=100, image_size: int=128, letter_case: str=\"upper\") -> None:\n",
    "    output_dir.mkdir(exist_ok=True, parents=True)  # create dataset directory\n",
    "    \n",
    "    # Generate n=images_per_class images for each letter\n",
    "    for letter in get_letter_case(letter_case):        \n",
    "        for i in range(images_per_class):\n",
    "            image = get_letter_image(letter, image_size=image_size)\n",
    "            filename = output_dir / f\"{letter}_{i:04}.png\"\n",
    "            cv2.imwrite(filename, image)\n",
    "        \n",
    "        print(f\"Generated {images_per_class} images for letter {letter}\")"
   ]
  },
  {
   "cell_type": "code",
   "execution_count": null,
   "metadata": {},
   "outputs": [],
   "source": [
    "\n",
    "# Generate training and testing datasets\n",
    "output_dir = Path(\"/home/ubuntu/data/letters_dataset/train\")\n",
    "generate_letter_dataset(output_dir, images_per_class=10)\n",
    "\n",
    "output_dir = Path(\"/home/ubuntu/data/letters_dataset/test\")\n",
    "generate_letter_dataset(output_dir, images_per_class=2)"
   ]
  }
 ],
 "metadata": {
  "kernelspec": {
   "display_name": "Python 3",
   "language": "python",
   "name": "python3"
  },
  "language_info": {
   "codemirror_mode": {
    "name": "ipython",
    "version": 3
   },
   "file_extension": ".py",
   "mimetype": "text/x-python",
   "name": "python",
   "nbconvert_exporter": "python",
   "pygments_lexer": "ipython3",
   "version": "3.12.3"
  }
 },
 "nbformat": 4,
 "nbformat_minor": 2
}
