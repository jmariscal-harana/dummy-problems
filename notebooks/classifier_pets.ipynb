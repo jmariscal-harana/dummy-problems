{
 "cells": [
  {
   "cell_type": "code",
   "execution_count": 8,
   "metadata": {},
   "outputs": [],
   "source": [
    "from pathlib import Path\n",
    "from dummy_problems.dataloaders import PetsDataModule\n",
    "from dummy_problems.models import MODEL_TYPES\n",
    "import lightning as L"
   ]
  },
  {
   "cell_type": "markdown",
   "metadata": {},
   "source": [
    "# Transformer - TinyViT"
   ]
  },
  {
   "cell_type": "code",
   "execution_count": null,
   "metadata": {},
   "outputs": [],
   "source": [
    "# Train TinyViT\n",
    "def train_tinyvit():\n",
    "    settings =  {\n",
    "        \"dataset_dir\": Path(\"/home/ubuntu/data/pets\"),\n",
    "        \"input_size\": 224,\n",
    "        \"batch_size\": 32,\n",
    "        \"sampling\": \"weighted\",\n",
    "        \"num_workers\": 15,\n",
    "\n",
    "        \"model_type\": \"DL\",\n",
    "        \"model_name\": \"tiny_vit_21m_224.dist_in22k_ft_in1k\",\n",
    "        \"num_channels\": 3,\n",
    "        \"num_classes\": 3,\n",
    "        \"labels\": [\"Chinchilla\", \"Hamster\", \"Rabbit\"],\n",
    "        \"stage\": \"fit\",\n",
    "    }\n",
    "\n",
    "    callbacks=[L.pytorch.callbacks.EarlyStopping(monitor=\"val_loss\", mode=\"min\")]\n",
    "\n",
    "    data = PetsDataModule(settings)\n",
    "    model = MODEL_TYPES[settings['model_type']](settings)\n",
    "    trainer = L.Trainer(max_epochs=10, callbacks=callbacks, log_every_n_steps=5)\n",
    "    trainer.fit(model, data)\n",
    "\n",
    "train_tinyvit()"
   ]
  },
  {
   "cell_type": "code",
   "execution_count": null,
   "metadata": {},
   "outputs": [],
   "source": [
    "# Test TinyViT\n",
    "def test_tinyvit():\n",
    "    settings =  {\n",
    "        \"dataset_dir\": Path(\"/home/ubuntu/data/pets\"),\n",
    "        \"input_size\": 224,\n",
    "        \"batch_size\": 32,\n",
    "        \"sampling\": \"weighted\",\n",
    "        \"num_workers\": 15,\n",
    "\n",
    "        \"model_type\": \"DL\",\n",
    "        \"model_name\": \"tiny_vit_21m_224.dist_in22k_ft_in1k\",\n",
    "        \"num_channels\": 3,\n",
    "        \"num_classes\": 3,\n",
    "        \"labels\": [\"Chinchilla\", \"Hamster\", \"Rabbit\"],\n",
    "        \"stage\": \"test\",\n",
    "        \"checkpoint\": \"../baseline.ckpt\",        \n",
    "    }\n",
    "\n",
    "    data = PetsDataModule(settings)\n",
    "    model = MODEL_TYPES[settings['model_type']].load_from_checkpoint(settings['checkpoint'], settings=settings)\n",
    "    trainer = L.Trainer()\n",
    "    trainer.test(model, data)\n",
    "\n",
    "test_tinyvit()"
   ]
  },
  {
   "cell_type": "code",
   "execution_count": null,
   "metadata": {},
   "outputs": [],
   "source": []
  }
 ],
 "metadata": {
  "kernelspec": {
   "display_name": "Python 3",
   "language": "python",
   "name": "python3"
  },
  "language_info": {
   "codemirror_mode": {
    "name": "ipython",
    "version": 3
   },
   "file_extension": ".py",
   "mimetype": "text/x-python",
   "name": "python",
   "nbconvert_exporter": "python",
   "pygments_lexer": "ipython3",
   "version": "3.12.3"
  }
 },
 "nbformat": 4,
 "nbformat_minor": 2
}
