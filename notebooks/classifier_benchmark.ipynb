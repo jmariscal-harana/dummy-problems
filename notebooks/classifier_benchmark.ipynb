{
 "cells": [
  {
   "cell_type": "code",
   "execution_count": null,
   "metadata": {},
   "outputs": [],
   "source": [
    "from pathlib import Path\n",
    "from dummy_problems.dataloaders import LettersDataModule\n",
    "from dummy_problems.models import MODEL_TYPES\n",
    "import lightning as L"
   ]
  },
  {
   "cell_type": "markdown",
   "metadata": {},
   "source": [
    "# Support Vector Machine"
   ]
  },
  {
   "cell_type": "code",
   "execution_count": null,
   "metadata": {},
   "outputs": [],
   "source": [
    "# Train SVM\n",
    "def train_svm():\n",
    "    settings =  {\n",
    "        \"num_classes\": 26,\n",
    "        \"dataset_dir\": Path(\"/home/ubuntu/data/letters_dataset\"),\n",
    "        \"num_workers\": 2,\n",
    "\n",
    "        \"model_type\": \"SVM\",\n",
    "        \"model_name\": \"SVM\",\n",
    "        \"stage\": \"train\",\n",
    "        \"checkpoint\": \"/home/ubuntu/dummy-problems/weights/svm.pkl\",\n",
    "    }\n",
    "\n",
    "    data = LettersDataModule(settings)\n",
    "    model = MODEL_TYPES[settings['model_type']](settings)\n",
    "    data.setup(\"train\")\n",
    "    model.fit(data.train_dataset)\n",
    "\n",
    "train_svm()\n",
    "# NOTE: if training with multiple dataset sizes, rename your saved checkpoint (e.g. svm_10.pkl, svm_100.pkl, svm_1000.pkl)"
   ]
  },
  {
   "cell_type": "code",
   "execution_count": 2,
   "metadata": {},
   "outputs": [],
   "source": [
    "# Test SVM\n",
    "def test_svm(dataset_size=10):\n",
    "    settings =  {\n",
    "        \"num_classes\": 26,\n",
    "        \"dataset_dir\": Path(\"/home/ubuntu/data/letters_dataset\"),\n",
    "        \"num_workers\": 2,\n",
    "\n",
    "        \"model_type\": \"SVM\",\n",
    "        \"model_name\": \"SVM\",\n",
    "        \"stage\": \"train\",\n",
    "        \"checkpoint\": f\"/home/ubuntu/dummy-problems/weights/svm_{dataset_size}.pkl\",\n",
    "    }\n",
    "\n",
    "    data = LettersDataModule(settings)\n",
    "    model = MODEL_TYPES[settings['model_type']](settings)\n",
    "\n",
    "    data.setup(\"test\")\n",
    "    model.test(data.test_dataset)"
   ]
  },
  {
   "cell_type": "code",
   "execution_count": null,
   "metadata": {},
   "outputs": [],
   "source": [
    "# samples per letter = 10 (train + validate)\n",
    "test_svm(dataset_size=10)\n",
    "\n",
    "# samples per letter = 100 (train + validate)\n",
    "test_svm(dataset_size=100)"
   ]
  },
  {
   "cell_type": "markdown",
   "metadata": {},
   "source": [
    "# ConvNet"
   ]
  },
  {
   "cell_type": "code",
   "execution_count": null,
   "metadata": {},
   "outputs": [],
   "source": [
    "# Train ConvNet\n",
    "def train_convnet():\n",
    "    settings =  {\n",
    "        \"dataset_dir\": Path(\"/home/ubuntu/data/letters_dataset\"),\n",
    "        \"num_workers\": 15,\n",
    "\n",
    "        \"model_type\": \"DL\",\n",
    "        \"model_name\": \"ConvNet\",\n",
    "        \"num_channels\": 1,\n",
    "        \"num_classes\": 26,\n",
    "        \"stage\": \"fit\",\n",
    "    }\n",
    "    callbacks=[L.pytorch.callbacks.EarlyStopping(monitor=\"val_loss\", mode=\"min\")]\n",
    "\n",
    "    data = LettersDataModule(settings)\n",
    "    model = MODEL_TYPES[settings['model_type']](settings)\n",
    "    trainer = L.Trainer(max_epochs=10, callbacks=callbacks, log_every_n_steps=5)\n",
    "    trainer.fit(model, data)\n",
    "\n",
    "train_convnet()"
   ]
  },
  {
   "cell_type": "code",
   "execution_count": 12,
   "metadata": {},
   "outputs": [],
   "source": [
    "# Test ConvNet\n",
    "def test_convnet(dataset_size=10):\n",
    "    settings =  {\n",
    "        \"dataset_dir\": Path(\"/home/ubuntu/data/letters_dataset\"),\n",
    "        \"num_workers\": 15,\n",
    "\n",
    "        \"model_type\": \"DL\",\n",
    "        \"model_name\": \"ConvNet\",\n",
    "        \"num_channels\": 1,\n",
    "        \"num_classes\": 26,\n",
    "        \"labels\": [\"A\", \"B\", \"C\", \"D\", \"E\", \"F\", \"G\", \"H\", \"I\", \"J\", \"K\", \"L\", \"M\", \"N\", \"O\", \"P\", \"Q\", \"R\", \"S\", \"T\", \"U\", \"V\", \"W\", \"X\", \"Y\", \"Z\"],\n",
    "        \"stage\": \"test\",\n",
    "        \"checkpoint\": f\"/home/ubuntu/dummy-problems/weights/convnet_{dataset_size}.ckpt\",\n",
    "    }\n",
    "\n",
    "    data = LettersDataModule(settings)\n",
    "    model = MODEL_TYPES[settings['model_type']].load_from_checkpoint(settings['checkpoint'], settings=settings)\n",
    "    trainer = L.Trainer()\n",
    "    trainer.test(model, data)"
   ]
  },
  {
   "cell_type": "code",
   "execution_count": null,
   "metadata": {},
   "outputs": [],
   "source": [
    "# samples per letter = 10 (train + validate)\n",
    "test_convnet(dataset_size=10)\n",
    "\n",
    "# samples per letter = 100 (train + validate)\n",
    "test_convnet(dataset_size=100)\n",
    "\n",
    "# samples per letter = 1000 (train + validate)\n",
    "test_convnet(dataset_size=1000)"
   ]
  },
  {
   "cell_type": "markdown",
   "metadata": {},
   "source": [
    "# Transformer - TinyViT"
   ]
  },
  {
   "cell_type": "code",
   "execution_count": null,
   "metadata": {},
   "outputs": [],
   "source": [
    "# Train TinyViT\n",
    "def train_tinyvit():\n",
    "    settings =  {\n",
    "        \"dataset_dir\": Path(\"/home/ubuntu/data/letters_dataset\"),\n",
    "        \"num_workers\": 15,\n",
    "\n",
    "        \"model_type\": \"DL\",\n",
    "        \"model_name\": \"tiny_vit_21m_224.dist_in22k_ft_in1k\",\n",
    "        \"num_channels\": 1,\n",
    "        \"num_classes\": 26,\n",
    "        \"stage\": \"fit\",\n",
    "    }\n",
    "    callbacks=[L.pytorch.callbacks.EarlyStopping(monitor=\"val_loss\", mode=\"min\")]\n",
    "\n",
    "    data = LettersDataModule(settings)\n",
    "    model = MODEL_TYPES[settings['model_type']](settings)\n",
    "    trainer = L.Trainer(max_epochs=10, callbacks=callbacks, log_every_n_steps=5)\n",
    "    trainer.fit(model, data)\n",
    "\n",
    "train_tinyvit()"
   ]
  },
  {
   "cell_type": "code",
   "execution_count": 2,
   "metadata": {},
   "outputs": [],
   "source": [
    "# Test TinyViT\n",
    "def test_tinyvit(dataset_size=10):\n",
    "    settings =  {\n",
    "        \"dataset_dir\": Path(\"/home/ubuntu/data/letters_dataset\"),\n",
    "        \"num_workers\": 15,\n",
    "\n",
    "        \"model_type\": \"DL\",\n",
    "        \"model_name\": \"tiny_vit_21m_224.dist_in22k_ft_in1k\",\n",
    "        \"num_channels\": 1,\n",
    "        \"num_classes\": 26,\n",
    "        \"labels\": [\"A\", \"B\", \"C\", \"D\", \"E\", \"F\", \"G\", \"H\", \"I\", \"J\", \"K\", \"L\", \"M\", \"N\", \"O\", \"P\", \"Q\", \"R\", \"S\", \"T\", \"U\", \"V\", \"W\", \"X\", \"Y\", \"Z\"],\n",
    "        \"stage\": \"test\",\n",
    "        \"checkpoint\": f\"/home/ubuntu/dummy-problems/weights/tinyvit_{dataset_size}.ckpt\",\n",
    "    }\n",
    "\n",
    "    data = LettersDataModule(settings)\n",
    "    model = MODEL_TYPES[settings['model_type']].load_from_checkpoint(settings['checkpoint'], settings=settings)\n",
    "    trainer = L.Trainer()\n",
    "    trainer.test(model, data)"
   ]
  },
  {
   "cell_type": "code",
   "execution_count": null,
   "metadata": {},
   "outputs": [],
   "source": [
    "# samples per letter = 10 (train + validate)\n",
    "test_tinyvit(dataset_size=10)\n",
    "\n",
    "# samples per letter = 100 (train + validate)\n",
    "test_tinyvit(dataset_size=100)\n",
    "\n",
    "# samples per letter = 1000 (train + validate)\n",
    "test_tinyvit(dataset_size=1000)"
   ]
  },
  {
   "cell_type": "code",
   "execution_count": null,
   "metadata": {},
   "outputs": [],
   "source": []
  }
 ],
 "metadata": {
  "kernelspec": {
   "display_name": "Python 3",
   "language": "python",
   "name": "python3"
  },
  "language_info": {
   "codemirror_mode": {
    "name": "ipython",
    "version": 3
   },
   "file_extension": ".py",
   "mimetype": "text/x-python",
   "name": "python",
   "nbconvert_exporter": "python",
   "pygments_lexer": "ipython3",
   "version": "3.12.3"
  }
 },
 "nbformat": 4,
 "nbformat_minor": 2
}
