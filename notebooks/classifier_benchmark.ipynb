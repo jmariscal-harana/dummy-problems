{
 "cells": [
  {
   "cell_type": "code",
   "execution_count": null,
   "metadata": {},
   "outputs": [],
   "source": [
    "from pathlib import Path\n",
    "from dummy_problems.dataloaders import LettersDataModule\n",
    "from dummy_problems.models import DLClassificationModel, SupportVectorMachine, MODEL_TYPES\n",
    "import lightning as L"
   ]
  },
  {
   "cell_type": "code",
   "execution_count": null,
   "metadata": {},
   "outputs": [],
   "source": [
    "# INITIALISE DATAMODULE AND MODEL\n",
    "settings = {\n",
    "    \"dataset_dir\": Path(\"/home/ubuntu/data/letters_dataset\"),\n",
    "    \"num_workers\": 15,\n",
    "    \"model_type\": \"DL\",\n",
    "    \"model_name\": \"tiny_vit_21m_512.dist_in22k_ft_in1k\",\n",
    "    \"stage\": \"train\",\n",
    "    \"checkpoint\": \"lightning_logs/version_0/checkpoints/epoch=99-step=700.ckpt\"\n",
    "}\n",
    "    \n",
    "data = LettersDataModule(settings)\n",
    "model = MODEL_TYPES[settings['model_type']](settings)"
   ]
  },
  {
   "cell_type": "code",
   "execution_count": null,
   "metadata": {},
   "outputs": [],
   "source": [
    "# TRAIN OR TEST BASED ON SETTINGS\n",
    "if settings['model_type'] == \"DL\":\n",
    "    if settings['stage'] == \"train\":\n",
    "        callbacks=[L.pytorch.callbacks.EarlyStopping(monitor=\"val_loss\", mode=\"min\")]\n",
    "        trainer = L.Trainer(max_epochs=1000, callbacks=callbacks, log_every_n_steps=5)\n",
    "        trainer.fit(model, data)\n",
    "    elif settings['stage'] == \"test\":\n",
    "        trainer = L.Trainer(log_every_n_steps=5)\n",
    "        trainer.test(model=model, datamodule=data, ckpt_path=settings['checkpoint'])\n",
    "\n",
    "elif settings['model_type'] == \"SVM\":\n",
    "    if settings['stage'] == \"train\":\n",
    "        model.fit(data)\n",
    "    elif settings['stage'] == \"test\":\n",
    "        model.test(data)"
   ]
  }
 ],
 "metadata": {
  "kernelspec": {
   "display_name": "Python 3",
   "language": "python",
   "name": "python3"
  },
  "language_info": {
   "codemirror_mode": {
    "name": "ipython",
    "version": 3
   },
   "file_extension": ".py",
   "mimetype": "text/x-python",
   "name": "python",
   "nbconvert_exporter": "python",
   "pygments_lexer": "ipython3",
   "version": "3.12.3"
  }
 },
 "nbformat": 4,
 "nbformat_minor": 2
}
