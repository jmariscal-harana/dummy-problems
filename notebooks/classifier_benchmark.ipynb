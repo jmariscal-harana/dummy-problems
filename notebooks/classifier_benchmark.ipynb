{
 "cells": [
  {
   "cell_type": "code",
   "execution_count": null,
   "metadata": {},
   "outputs": [],
   "source": [
    "from pathlib import Path\n",
    "from dummy_problems.dataloaders import LettersDataModule\n",
    "from dummy_problems.models import MODEL_TYPES, SETTINGS_DL\n",
    "import lightning as L"
   ]
  },
  {
   "cell_type": "code",
   "execution_count": null,
   "metadata": {},
   "outputs": [],
   "source": [
    "# Train ConvNet\n",
    "def train_convnet():\n",
    "    settings =  {\n",
    "        \"num_classes\": 26,\n",
    "        \"dataset_dir\": Path(\"/home/ubuntu/data/letters_dataset\"),\n",
    "\n",
    "        \"model_type\": \"DL\",\n",
    "        \"model_name\": \"ConvNet\",\n",
    "        \"stage\": \"fit\",\n",
    "    }\n",
    "    settings.update(SETTINGS_DL[settings[\"model_name\"]])\n",
    "    callbacks=[L.pytorch.callbacks.EarlyStopping(monitor=\"val_loss\", mode=\"min\")]\n",
    "\n",
    "    data = LettersDataModule(settings)\n",
    "    model = MODEL_TYPES[settings['model_type']](settings)\n",
    "    trainer = L.Trainer(max_epochs=10, callbacks=callbacks, log_every_n_steps=5)\n",
    "    trainer.fit(model, data)\n",
    "\n",
    "train_convnet()"
   ]
  },
  {
   "cell_type": "code",
   "execution_count": 2,
   "metadata": {},
   "outputs": [],
   "source": [
    "# Test ConvNet\n",
    "def test_convnet(dataset_size=10):\n",
    "    settings =  {\n",
    "        \"num_classes\": 26,\n",
    "        \"dataset_dir\": Path(\"/home/ubuntu/data/letters_dataset\"),\n",
    "\n",
    "        \"model_type\": \"DL\",\n",
    "        \"model_name\": \"ConvNet\",\n",
    "        \"stage\": \"fit\",\n",
    "        \"checkpoint\": f\"weights/convnet_{dataset_size}.ckpt\",\n",
    "    }\n",
    "\n",
    "    data = LettersDataModule(settings)\n",
    "    model = MODEL_TYPES[settings['model_type']].load_from_checkpoint(settings['checkpoint'])\n",
    "    trainer = L.Trainer()\n",
    "    trainer.test(model, data)"
   ]
  },
  {
   "cell_type": "code",
   "execution_count": null,
   "metadata": {},
   "outputs": [],
   "source": [
    "# samples per letter = 10 (train + validate)\n",
    "test_convnet(dataset_size=10)\n",
    "\n",
    "# samples per letter = 100 (train + validate)\n",
    "test_convnet(dataset_size=100)\n",
    "\n",
    "# samples per letter = 1000 (train + validate)\n",
    "test_convnet(dataset_size=1000)"
   ]
  }
 ],
 "metadata": {
  "kernelspec": {
   "display_name": "Python 3",
   "language": "python",
   "name": "python3"
  },
  "language_info": {
   "codemirror_mode": {
    "name": "ipython",
    "version": 3
   },
   "file_extension": ".py",
   "mimetype": "text/x-python",
   "name": "python",
   "nbconvert_exporter": "python",
   "pygments_lexer": "ipython3",
   "version": "3.12.3"
  }
 },
 "nbformat": 4,
 "nbformat_minor": 2
}
