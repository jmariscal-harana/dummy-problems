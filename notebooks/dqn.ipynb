{
 "cells": [
  {
   "cell_type": "code",
   "execution_count": null,
   "metadata": {
    "vscode": {
     "languageId": "plaintext"
    }
   },
   "outputs": [],
   "source": [
    "import gym\n",
    "from time import sleep\n",
    "\n",
    "env = gym.make('CartPole-v1')\n",
    "\n",
    "def random_games(episodes: int=10, steps: int=100) -> None:\n",
    "    for episode in range(episodes):\n",
    "        env.reset()\n",
    "\n",
    "        for step in range(steps):\n",
    "            env.render()  # render the environment when X11 is available\n",
    "\n",
    "            action = env.action_space.sample()\n",
    "            state_next, reward, terminated, _, info = env.step(action)\n",
    "            print(f\"Episode: {episode}, Step: {step} | State: {state_next}, Reward: {reward}, Done: {terminated}\")\n",
    "            \n",
    "            if terminated:\n",
    "                print(f\"Episode {episode} finished after {step} steps.\")\n",
    "                break\n",
    "\n",
    "            sleep(0.1)\n",
    "\n",
    "\n",
    "if __name__ == \"__main__\":\n",
    "    random_games()\n",
    "    env.close()\n"
   ]
  }
 ],
 "metadata": {
  "language_info": {
   "name": "python"
  }
 },
 "nbformat": 4,
 "nbformat_minor": 2
}
