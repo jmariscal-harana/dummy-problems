{
 "cells": [
  {
   "cell_type": "code",
   "execution_count": null,
   "metadata": {},
   "outputs": [],
   "source": [
    "import torch\n",
    "import lightning as L\n",
    "from dummy_problems.dataloaders import LettersDataModule\n",
    "from timm import create_model\n",
    "from pathlib import Path\n",
    "import torchmetrics\n",
    "\n",
    "class ClassificationModel(L.LightningModule):\n",
    "    def __init__(self):\n",
    "        super().__init__()\n",
    "        self.model = create_model('mobilenetv3_large_100', num_classes=26)\n",
    "        self.loss_fn = torch.nn.CrossEntropyLoss()\n",
    "        self.accuracy = torchmetrics.classification.Accuracy(task=\"multiclass\", num_classes=26)\n",
    "\n",
    "    def training_step(self, batch):\n",
    "        images, targets = batch\n",
    "        outputs = self.model(images)\n",
    "        loss = self.loss_fn(outputs, targets)\n",
    "        self.log(\"train_loss\", loss)\n",
    "        return loss\n",
    "\n",
    "    def test_step(self, batch):\n",
    "        images, targets = batch\n",
    "        outputs = self.model(images)\n",
    "        \n",
    "        self.accuracy(outputs, targets)\n",
    "        self.log('test_acc_step', self.accuracy)\n",
    "\n",
    "    def on_test_epoch_end(self):\n",
    "        self.log('test_acc_epoch', self.accuracy)\n",
    "\n",
    "    def configure_optimizers(self):\n",
    "        return torch.optim.AdamW(self.model.parameters(), lr=0.005)   "
   ]
  },
  {
   "cell_type": "code",
   "execution_count": 2,
   "metadata": {},
   "outputs": [],
   "source": [
    "model = ClassificationModel()"
   ]
  },
  {
   "cell_type": "code",
   "execution_count": null,
   "metadata": {},
   "outputs": [],
   "source": [
    "# Training\n",
    "settings = {\n",
    "    \"dataset_dir\": Path(\"/home/ubuntu/data/letters_dataset\"),\n",
    "    \"stage\": \"fit\",\n",
    "}\n",
    "\n",
    "data = LettersDataModule(settings)\n",
    "trainer = L.Trainer(max_epochs=40)\n",
    "trainer.fit(model, data)\n"
   ]
  },
  {
   "cell_type": "code",
   "execution_count": null,
   "metadata": {},
   "outputs": [],
   "source": [
    "# Testing\n",
    "settings = {\n",
    "    \"dataset_dir\": Path(\"/home/ubuntu/data/letters_dataset\"),\n",
    "    \"stage\": \"test\",\n",
    "}\n",
    "\n",
    "data = LettersDataModule(settings)\n",
    "trainer = L.Trainer()\n",
    "trainer.test(model=model, datamodule=data, ckpt_path=\"lightning_logs/version_23/checkpoints/epoch=39-step=280.ckpt\")"
   ]
  },
  {
   "cell_type": "code",
   "execution_count": null,
   "metadata": {},
   "outputs": [],
   "source": []
  }
 ],
 "metadata": {
  "kernelspec": {
   "display_name": "Python 3",
   "language": "python",
   "name": "python3"
  },
  "language_info": {
   "codemirror_mode": {
    "name": "ipython",
    "version": 3
   },
   "file_extension": ".py",
   "mimetype": "text/x-python",
   "name": "python",
   "nbconvert_exporter": "python",
   "pygments_lexer": "ipython3",
   "version": "3.12.3"
  }
 },
 "nbformat": 4,
 "nbformat_minor": 2
}
