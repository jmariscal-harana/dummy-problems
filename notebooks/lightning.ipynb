{
 "cells": [
  {
   "cell_type": "code",
   "execution_count": null,
   "metadata": {},
   "outputs": [],
   "source": [
    "# train.py\n",
    "import torch\n",
    "import lightning as L\n",
    "\n",
    "\n",
    "# STEP 1: DEFINE YOUR LIGHTNING MODULE\n",
    "class ToyExample(L.LightningModule):\n",
    "    def __init__(self, model):\n",
    "        super().__init__()\n",
    "        self.model = model\n",
    "\n",
    "    def training_step(self, batch):\n",
    "        # Send the batch through the model and calculate the loss\n",
    "        # The Trainer will run .backward(), optimizer.step(), .zero_grad(), etc. for you\n",
    "        loss = self.model(batch).sum()\n",
    "        return loss\n",
    "\n",
    "    def configure_optimizers(self):\n",
    "        # Choose an optimizer or implement your own.\n",
    "        return torch.optim.Adam(self.model.parameters())\n",
    "\n",
    "\n",
    "# STEP 2: RUN THE TRAINER\n",
    "if __name__ == \"__main__\":\n",
    "    # Set up the model so it can be called in `training_step`.\n",
    "    # This is a dummy model. Replace it with an LLM or whatever\n",
    "    model = torch.nn.Linear(32, 2)\n",
    "    pl_module = ToyExample(model)\n",
    "    # Configure the dataset and return a data loader.\n",
    "    train_dataloader = torch.utils.data.DataLoader(torch.randn(8, 32))\n",
    "    trainer = L.Trainer()\n",
    "    trainer.fit(pl_module, train_dataloader)"
   ]
  }
 ],
 "metadata": {
  "kernelspec": {
   "display_name": "base",
   "language": "python",
   "name": "python3"
  },
  "language_info": {
   "codemirror_mode": {
    "name": "ipython",
    "version": 3
   },
   "file_extension": ".py",
   "mimetype": "text/x-python",
   "name": "python",
   "nbconvert_exporter": "python",
   "pygments_lexer": "ipython3",
   "version": "3.11.10"
  }
 },
 "nbformat": 4,
 "nbformat_minor": 2
}
